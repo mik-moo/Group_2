{
 "cells": [
  {
   "cell_type": "code",
   "execution_count": null,
   "id": "0fdea61b",
   "metadata": {},
   "outputs": [],
   "source": [
    "# Import our dependencies\n",
    "from sklearn.model_selection import train_test_split\n",
    "from sklearn.preprocessing import StandardScaler,OneHotEncoder\n",
    "import pandas as pd\n",
    "import tensorflow as tf\n",
    "import plotly.express as px\n",
    "import hvplot.pandas\n",
    "from sklearn.cluster import KMeans\n",
    "from sklearn.decomposition import PCA\n",
    "from sklearn.cluster import AgglomerativeClustering\n"
   ]
  },
  {
   "cell_type": "code",
   "execution_count": null,
   "id": "15cf12f0",
   "metadata": {},
   "outputs": [],
   "source": [
    "# Load the crypto_data.csv dataset.\n",
    "file_path = \"resources/winequality-red.csv\"\n",
    "red_df = pd.read_csv(file_path)\n",
    "red_df.head()"
   ]
  },
  {
   "cell_type": "code",
   "execution_count": null,
   "id": "594cc77d",
   "metadata": {},
   "outputs": [],
   "source": [
    "red_df= red_df.drop_duplicates()\n",
    "red_df.head()"
   ]
  },
  {
   "cell_type": "code",
   "execution_count": null,
   "id": "e948cdb1",
   "metadata": {},
   "outputs": [],
   "source": [
    "# Standardize the data with StandardScaler().\n",
    "X_scaled = StandardScaler().fit_transform(red_df)\n",
    "print(X_scaled[0:5])"
   ]
  },
  {
   "cell_type": "code",
   "execution_count": null,
   "id": "04540887",
   "metadata": {},
   "outputs": [],
   "source": [
    "# Using PCA to reduce dimension to three principal components.\n",
    "\n",
    "# Initialize PCA model\n",
    "pca = PCA(n_components=3)\n",
    "\n",
    "# fit and transform the scaled data\n",
    "red_pca = pca.fit_transform(X_scaled)"
   ]
  },
  {
   "cell_type": "code",
   "execution_count": null,
   "id": "81053c32",
   "metadata": {},
   "outputs": [],
   "source": [
    "# Create a DataFrame with the three principal components.\n",
    "\n",
    "pca_df = pd.DataFrame(\n",
    "    data=red_pca, columns=[\"PC 1\", \"PC 2\", \"PC 3\"], index = red_df.index\n",
    ")\n",
    "pca_df.head(10)"
   ]
  },
  {
   "cell_type": "code",
   "execution_count": null,
   "id": "ce48dfcc",
   "metadata": {},
   "outputs": [],
   "source": [
    "# Create an elbow curve to find the best value for K.\n",
    "# Finding the best value for k\n",
    "inertia = []\n",
    "k = list(range(1, 12))\n",
    "\n",
    "# Calculate the inertia for the range of k values\n",
    "for i in k:\n",
    "    km = KMeans(n_clusters=i, random_state=0)\n",
    "    km.fit(pca_df)\n",
    "    inertia.append(km.inertia_)\n",
    "\n",
    "# Creating the Elbow Curve\n",
    "elbow_data = {\"k\": k, \"inertia\": inertia}\n",
    "df_elbow = pd.DataFrame(elbow_data)\n",
    "\n",
    "# Plot the curve\n",
    "# df_elbow.hvplot.line(x=\"k\", y=\"inertia\", title=\"Elbow Curve\", xticks=k)\n",
    "\n",
    "# Plotly express plot\n",
    "fig = px.line(df_elbow, x=\"k\", y=\"inertia\", title='Elbow Curve')\n",
    "fig.show()"
   ]
  },
  {
   "cell_type": "code",
   "execution_count": null,
   "id": "bf748afc",
   "metadata": {},
   "outputs": [],
   "source": [
    "# Initialize the K-Means model.\n",
    "model = KMeans(n_clusters=5, random_state=0)\n",
    "\n",
    "# Fit the model\n",
    "model.fit(pca_df)\n",
    "\n",
    "# Predict clusters\n",
    "predictions = model.predict(pca_df)"
   ]
  },
  {
   "cell_type": "code",
   "execution_count": null,
   "id": "0e14c367",
   "metadata": {},
   "outputs": [],
   "source": [
    "#Create a new DataFrame including predicted clusters and features.\n",
    "# Concatentate the DataFrames on the same columns.\n",
    "clustered_df = pd.concat([red_df, pca_df], axis = 1)\n",
    "#clustered_df.head()\n",
    "\n",
    "#  Add a new column that holds the predictions.\n",
    "clustered_df[\"Clusters\"] = model.labels_\n",
    "\n",
    "# Print the shape of the clustered_df\n",
    "print(clustered_df.shape)\n",
    "clustered_df.sample(10)"
   ]
  },
  {
   "cell_type": "code",
   "execution_count": null,
   "id": "2dd41eaa",
   "metadata": {},
   "outputs": [],
   "source": [
    "# Creating a 3D-Scatter with the PCA data and the clusters\n",
    "\n",
    "# Plot 3D\n",
    "fig = px.scatter_3d(\n",
    "    clustered_df,\n",
    "    x=\"PC 1\",\n",
    "    y=\"PC 2\",\n",
    "    z=\"PC 3\",\n",
    "    color=\"Clusters\",\n",
    "       \n",
    ")\n",
    "fig.update_layout(legend=dict(x=0, y=1))\n",
    "fig.show()"
   ]
  },
  {
   "cell_type": "code",
   "execution_count": null,
   "id": "f7a1c76b",
   "metadata": {},
   "outputs": [],
   "source": [
    "clustered_df.sort_values(\"Clusters\", ascending=False).groupby(\"Clusters\")\n",
    "fig2 = px.bar(\n",
    "    clustered_df,\n",
    "    x= 'Clusters',\n",
    "    y='quality',\n",
    "    color = 'Clusters',\n",
    ")\n",
    "fig2.update_layout(barmode='stack')\n",
    "fig2.show()"
   ]
  }
 ],
 "metadata": {
  "kernelspec": {
   "display_name": "mlenv",
   "language": "python",
   "name": "mlenv"
  },
  "language_info": {
   "codemirror_mode": {
    "name": "ipython",
    "version": 3
   },
   "file_extension": ".py",
   "mimetype": "text/x-python",
   "name": "python",
   "nbconvert_exporter": "python",
   "pygments_lexer": "ipython3",
   "version": "3.7.13"
  }
 },
 "nbformat": 4,
 "nbformat_minor": 5
}
